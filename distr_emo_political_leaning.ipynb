{
 "cells": [
  {
   "cell_type": "markdown",
   "id": "621e86f4",
   "metadata": {},
   "source": [
    "Distribution emotion for political leaning"
   ]
  },
  {
   "cell_type": "code",
   "execution_count": 1,
   "id": "19923c58",
   "metadata": {},
   "outputs": [],
   "source": [
    "import matplotlib.pyplot as plt\n",
    "import ptitprince as pt\n",
    "import pandas as pd\n",
    "import numpy\n",
    "palette10 = [\"#E64B35\",\"#4DBBD5\",\"#00A087\",\"#3C5488\",\"#F39B7F\",\"#8491B4\",\"#91D1C2\",\"#DC0000\",\"#7E6148\",\"#B09C85\"]\n",
    "\n",
    "lc = pd.read_csv(\"./lc_emotion_political_leaning.csv.gz\", compression ='gzip', sep=\"|\")\n",
    "baseline = pd.read_csv(\"./baseline_emotion_political_leaning.csv.gz\", compression ='gzip', sep=\"|\")\n"
   ]
  },
  {
   "cell_type": "code",
   "execution_count": 2,
   "id": "41ef1bdf",
   "metadata": {},
   "outputs": [],
   "source": [
    "def sort(df):\n",
    "    dow = ['left', 'left-center', 'center', 'right-center',  'right']\n",
    "    df['political'] = pd.Categorical(df['political'], ordered=True, categories=dow)\n",
    "    return df\n",
    "lc = sort(lc)\n",
    "baseline = sort(baseline)"
   ]
  },
  {
   "cell_type": "code",
   "execution_count": 3,
   "id": "7151f1f9",
   "metadata": {},
   "outputs": [],
   "source": [
    "import matplotlib.pyplot as plt\n",
    "import ptitprince as pt\n",
    "\n",
    "def create_raincloud_plots(data, baseline, palette10, output_file_path):\n",
    "    fig, axes = plt.subplots(1, 2, figsize=(14, 8), sharey=True)\n",
    "\n",
    "    # Plot for LONG COVID\n",
    "    pt.RainCloud(ax=axes[0], x='political', y='pos_norm',\n",
    "                 palette=palette10,\n",
    "                 data=data,\n",
    "                 width_viol=.8,\n",
    "                 width_box=.4,\n",
    "                 orient='h')\n",
    "    axes[0].tick_params(axis='both', which='major', labelsize=15)\n",
    "    axes[0].set_xlabel('Value Mean Emotion', fontsize=17)\n",
    "    axes[0].set_title('LONG COVID', fontsize=15)\n",
    "    axes[0].set_ylabel(\"\")\n",
    "\n",
    "    # Plot for BASELINE\n",
    "    pt.RainCloud(ax=axes[1], x='political', y='pos_norm',\n",
    "                 palette=palette10,\n",
    "                 data=baseline,\n",
    "                 width_viol=.8,\n",
    "                 width_box=.4,\n",
    "                 orient='h')\n",
    "    axes[1].tick_params(axis='both', which='major', labelsize=15)\n",
    "    axes[1].set_xlabel('Value Mean Emotion', fontsize=17)\n",
    "    axes[1].set_title('BASELINE', fontsize=15)\n",
    "    axes[1].set_ylabel(\"\")\n",
    "\n",
    "    # Setting the number of x-axis ticks\n",
    "    axes[0].xaxis.set_major_locator(plt.MaxNLocator(5))\n",
    "    axes[1].xaxis.set_major_locator(plt.MaxNLocator(5))\n",
    "\n",
    "    # Adjust layout and save the figure\n",
    "    fig.tight_layout()\n",
    "    plt.savefig(output_file_path, dpi=400, bbox_inches='tight', facecolor='w')\n",
    "    plt.close()\n",
    "\n",
    "# Example usage\n",
    "create_raincloud_plots(lc, baseline, palette10, \"distr_emo_poltical_leaning.png\")"
   ]
  },
  {
   "cell_type": "code",
   "execution_count": null,
   "id": "4e4c48d9",
   "metadata": {},
   "outputs": [],
   "source": []
  }
 ],
 "metadata": {
  "kernelspec": {
   "display_name": "Python 3 (ipykernel)",
   "language": "python",
   "name": "python3"
  },
  "language_info": {
   "codemirror_mode": {
    "name": "ipython",
    "version": 3
   },
   "file_extension": ".py",
   "mimetype": "text/x-python",
   "name": "python",
   "nbconvert_exporter": "python",
   "pygments_lexer": "ipython3",
   "version": "3.9.13"
  }
 },
 "nbformat": 4,
 "nbformat_minor": 5
}
